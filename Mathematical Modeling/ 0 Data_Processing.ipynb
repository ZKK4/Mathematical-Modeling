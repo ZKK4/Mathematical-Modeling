{
 "cells": [
  {
   "cell_type": "code",
   "execution_count": 1,
   "metadata": {},
   "outputs": [],
   "source": [
    "import numpy as np\n",
    "import pandas as pd\n",
    "import matplotlib.pyplot as plt\n",
    "import os\n",
    "#解决中文显示问题\n",
    "plt.rcParams['font.sans-serif'] = ['KaiTi'] # 指定默认字体\n",
    "plt.rcParams['axes.unicode_minus'] = False # 解决保存图像是负号'-'显示为方块的问题\n",
    "#图像显示不清楚\n",
    "%config InlineBackend.figure_format ='svg'"
   ]
  },
  {
   "cell_type": "markdown",
   "metadata": {},
   "source": [
    "## 1.处理PM2.5"
   ]
  },
  {
   "cell_type": "code",
   "execution_count": 2,
   "metadata": {},
   "outputs": [
    {
     "name": "stdout",
     "output_type": "stream",
     "text": [
      "<class 'pandas.core.frame.DataFrame'>\n",
      "RangeIndex: 270 entries, 0 to 269\n",
      "Data columns (total 15 columns):\n",
      " #   Column        Non-Null Count  Dtype         \n",
      "---  ------        --------------  -----         \n",
      " 0   时间            270 non-null    datetime64[ns]\n",
      " 1   地点            270 non-null    object        \n",
      " 2   粒径            270 non-null    object        \n",
      " 3   颗粒物浓度（ug/m3）  269 non-null    float64       \n",
      " 4   OC(ug/m3)     269 non-null    float64       \n",
      " 5   EC(ug/m3)     269 non-null    float64       \n",
      " 6   OC/EC         269 non-null    float64       \n",
      " 7   OC1(ug/m3)    269 non-null    float64       \n",
      " 8   OC2(ug/m3)    269 non-null    float64       \n",
      " 9   OC3(ug/m3)    269 non-null    float64       \n",
      " 10  OC4(ug/m3)    269 non-null    float64       \n",
      " 11  EC1(ug/m3)    269 non-null    float64       \n",
      " 12  EC2(ug/m3)    269 non-null    float64       \n",
      " 13  EC3(ug/m3)    269 non-null    float64       \n",
      " 14  OPC(ug/m3)    104 non-null    float64       \n",
      "dtypes: datetime64[ns](1), float64(12), object(2)\n",
      "memory usage: 31.8+ KB\n"
     ]
    }
   ],
   "source": [
    "read_path=\"E:/33-数学建模资料/研究生数学建模竞赛-2021/数据.xlsx\"\n",
    "to_path=\"E:/33-数学建模资料/研究生数学建模竞赛-2021/process_nan_anomaly.xlsx\"\n",
    "data1=pd.read_excel(read_path,sheet_name='PM2.5')\n",
    "writer=pd.ExcelWriter(to_path)\n",
    "data1.info()"
   ]
  },
  {
   "cell_type": "code",
   "execution_count": 3,
   "metadata": {},
   "outputs": [],
   "source": [
    "#OPC列缺失值较多，用均值填充\n",
    "mean_val=data1['OPC(ug/m3)'].mean()\n",
    "data1['OPC(ug/m3)'].fillna(mean_val,inplace=True)"
   ]
  },
  {
   "cell_type": "code",
   "execution_count": 4,
   "metadata": {},
   "outputs": [],
   "source": [
    "data1=data1.dropna(axis=0,how='any')#缺失值较少，删除"
   ]
  },
  {
   "cell_type": "code",
   "execution_count": 5,
   "metadata": {},
   "outputs": [],
   "source": [
    "#去除有负值和0值的行\n",
    "# data1.drop(index = data1.EC3(ug/m3)[df1.EC3(ug/m3) < 0].index )\n",
    "def detection(data):\n",
    "    columns_=['颗粒物浓度（ug/m3）','OC(ug/m3)','EC(ug/m3)','OC/EC','OC1(ug/m3)','OC2(ug/m3)','OC3(ug/m3)','OC4(ug/m3)','EC1(ug/m3)','EC2(ug/m3)','EC3(ug/m3)','OPC(ug/m3)']\n",
    "    index=[]\n",
    "    for i in columns_:\n",
    "        index.append(data[data[i]<= 0].index)\n",
    "    print(index)"
   ]
  },
  {
   "cell_type": "code",
   "execution_count": 6,
   "metadata": {},
   "outputs": [
    {
     "name": "stdout",
     "output_type": "stream",
     "text": [
      "[Int64Index([], dtype='int64'), Int64Index([], dtype='int64'), Int64Index([], dtype='int64'), Int64Index([], dtype='int64'), Int64Index([], dtype='int64'), Int64Index([], dtype='int64'), Int64Index([], dtype='int64'), Int64Index([], dtype='int64'), Int64Index([], dtype='int64'), Int64Index([216, 217, 219], dtype='int64'), Int64Index([16], dtype='int64'), Int64Index([], dtype='int64')]\n"
     ]
    }
   ],
   "source": [
    "detection(data1)"
   ]
  },
  {
   "cell_type": "code",
   "execution_count": 7,
   "metadata": {},
   "outputs": [],
   "source": [
    "data1=data1.drop([16,216, 217, 219])"
   ]
  },
  {
   "cell_type": "code",
   "execution_count": 8,
   "metadata": {},
   "outputs": [],
   "source": [
    "#异常值处理：这里的异常值有负值"
   ]
  },
  {
   "cell_type": "code",
   "execution_count": 9,
   "metadata": {},
   "outputs": [],
   "source": [
    "def AddQuater(data):\n",
    "    data.insert(1,'季度',data['时间'].dt.quarter)\n",
    "    PM25_count={}\n",
    "    for i in data['季度']:\n",
    "        PM25_count[i]=PM25_count.get(i,0)+1\n",
    "    PM25_count=sorted(PM25_count.items())\n",
    "    PM25_count=dict(PM25_count)\n",
    "    return PM25_count#返回季度和对应天数"
   ]
  },
  {
   "cell_type": "code",
   "execution_count": 10,
   "metadata": {},
   "outputs": [],
   "source": [
    "def to_file(data,str1):\n",
    "    data.to_excel(writer,sheet_name=str1)"
   ]
  },
  {
   "cell_type": "code",
   "execution_count": 11,
   "metadata": {},
   "outputs": [],
   "source": [
    "PM25_count=AddQuater(data1)   \n",
    "to_file(data1,'PM2.5')"
   ]
  },
  {
   "cell_type": "markdown",
   "metadata": {},
   "source": [
    "## 2.处理PM1"
   ]
  },
  {
   "cell_type": "code",
   "execution_count": 12,
   "metadata": {},
   "outputs": [
    {
     "name": "stdout",
     "output_type": "stream",
     "text": [
      "<class 'pandas.core.frame.DataFrame'>\n",
      "RangeIndex: 206 entries, 0 to 205\n",
      "Data columns (total 15 columns):\n",
      " #   Column        Non-Null Count  Dtype         \n",
      "---  ------        --------------  -----         \n",
      " 0   时间            206 non-null    datetime64[ns]\n",
      " 1   地点            206 non-null    object        \n",
      " 2   粒径            206 non-null    object        \n",
      " 3   颗粒物浓度（ug/m3）  190 non-null    float64       \n",
      " 4   OC(ug/m3)     206 non-null    float64       \n",
      " 5   EC(ug/m3)     206 non-null    float64       \n",
      " 6   OC/EC         206 non-null    float64       \n",
      " 7   OC1(ug/m3)    206 non-null    float64       \n",
      " 8   OC2(ug/m3)    206 non-null    float64       \n",
      " 9   OC3(ug/m3)    206 non-null    float64       \n",
      " 10  OC4(ug/m3)    206 non-null    float64       \n",
      " 11  EC1(ug/m3)    206 non-null    float64       \n",
      " 12  EC2(ug/m3)    206 non-null    float64       \n",
      " 13  EC3(ug/m3)    205 non-null    float64       \n",
      " 14  OPC(ug/m3)    206 non-null    float64       \n",
      "dtypes: datetime64[ns](1), float64(12), object(2)\n",
      "memory usage: 24.3+ KB\n"
     ]
    }
   ],
   "source": [
    "data2=pd.read_excel(read_path,sheet_name='PM1')\n",
    "data2.info()"
   ]
  },
  {
   "cell_type": "code",
   "execution_count": 13,
   "metadata": {},
   "outputs": [
    {
     "name": "stdout",
     "output_type": "stream",
     "text": [
      "[Int64Index([87], dtype='int64'), Int64Index([], dtype='int64'), Int64Index([], dtype='int64'), Int64Index([], dtype='int64'), Int64Index([], dtype='int64'), Int64Index([], dtype='int64'), Int64Index([], dtype='int64'), Int64Index([], dtype='int64'), Int64Index([], dtype='int64'), Int64Index([], dtype='int64'), Int64Index([149], dtype='int64'), Int64Index([149], dtype='int64')]\n"
     ]
    }
   ],
   "source": [
    "#处理缺失值和异常值\n",
    "data2=data2.dropna(axis=0,how='any')#删除缺失值\n",
    "detection(data2)#检测异常值"
   ]
  },
  {
   "cell_type": "code",
   "execution_count": 14,
   "metadata": {},
   "outputs": [],
   "source": [
    "data2=data2.drop([87,149])"
   ]
  },
  {
   "cell_type": "code",
   "execution_count": 15,
   "metadata": {},
   "outputs": [],
   "source": [
    "PM1_count=AddQuater(data2)   \n",
    "to_file(data2,'PM1')"
   ]
  },
  {
   "cell_type": "markdown",
   "metadata": {},
   "source": [
    "## 3.处理PM10"
   ]
  },
  {
   "cell_type": "code",
   "execution_count": 16,
   "metadata": {},
   "outputs": [
    {
     "name": "stdout",
     "output_type": "stream",
     "text": [
      "<class 'pandas.core.frame.DataFrame'>\n",
      "RangeIndex: 194 entries, 0 to 193\n",
      "Data columns (total 15 columns):\n",
      " #   Column        Non-Null Count  Dtype         \n",
      "---  ------        --------------  -----         \n",
      " 0   时间            194 non-null    datetime64[ns]\n",
      " 1   地点            194 non-null    object        \n",
      " 2   粒径            194 non-null    object        \n",
      " 3   颗粒物浓度（ug/m3）  192 non-null    float64       \n",
      " 4   OC(ug/m3)     194 non-null    float64       \n",
      " 5   EC(ug/m3)     194 non-null    float64       \n",
      " 6   OC/EC         194 non-null    float64       \n",
      " 7   OC1(ug/m3)    194 non-null    float64       \n",
      " 8   OC2(ug/m3)    194 non-null    float64       \n",
      " 9   OC3(ug/m3)    194 non-null    float64       \n",
      " 10  OC4(ug/m3)    194 non-null    float64       \n",
      " 11  EC1(ug/m3)    194 non-null    float64       \n",
      " 12  EC2(ug/m3)    194 non-null    float64       \n",
      " 13  EC3(ug/m3)    194 non-null    float64       \n",
      " 14  OPC(ug/m3)    194 non-null    float64       \n",
      "dtypes: datetime64[ns](1), float64(12), object(2)\n",
      "memory usage: 22.9+ KB\n"
     ]
    }
   ],
   "source": [
    "data3=pd.read_excel(read_path,sheet_name='PM10')\n",
    "data3.info()"
   ]
  },
  {
   "cell_type": "code",
   "execution_count": 17,
   "metadata": {},
   "outputs": [
    {
     "name": "stdout",
     "output_type": "stream",
     "text": [
      "[Int64Index([], dtype='int64'), Int64Index([], dtype='int64'), Int64Index([], dtype='int64'), Int64Index([], dtype='int64'), Int64Index([], dtype='int64'), Int64Index([], dtype='int64'), Int64Index([], dtype='int64'), Int64Index([185], dtype='int64'), Int64Index([], dtype='int64'), Int64Index([], dtype='int64'), Int64Index([26], dtype='int64'), Int64Index([], dtype='int64')]\n"
     ]
    }
   ],
   "source": [
    "#处理缺失值和异常值\n",
    "data3=data3.dropna(axis=0,how='any')\n",
    "detection(data3)"
   ]
  },
  {
   "cell_type": "code",
   "execution_count": 18,
   "metadata": {},
   "outputs": [],
   "source": [
    "data3=data3.drop([185,26])"
   ]
  },
  {
   "cell_type": "code",
   "execution_count": 19,
   "metadata": {},
   "outputs": [],
   "source": [
    "PM10_count=AddQuater(data3)   \n",
    "to_file(data3,'PM10')"
   ]
  },
  {
   "cell_type": "code",
   "execution_count": 20,
   "metadata": {},
   "outputs": [],
   "source": [
    "writer.save()\n",
    "writer.close()"
   ]
  }
 ],
 "metadata": {
  "kernelspec": {
   "display_name": "Python 3",
   "language": "python",
   "name": "python3"
  },
  "language_info": {
   "codemirror_mode": {
    "name": "ipython",
    "version": 3
   },
   "file_extension": ".py",
   "mimetype": "text/x-python",
   "name": "python",
   "nbconvert_exporter": "python",
   "pygments_lexer": "ipython3",
   "version": "3.7.6"
  }
 },
 "nbformat": 4,
 "nbformat_minor": 4
}
